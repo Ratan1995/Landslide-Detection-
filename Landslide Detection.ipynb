#Authors Jose Maria Cuevas  Davila ( KU Leuven), Ali Eslami (VUB), Colin Herbert (VUB), Ratan Chandra Bhowmick (VUB)

{
  "nbformat": 4,
  "nbformat_minor": 0,
  "metadata": {
    "colab": {
      "provenance": []
    },
    "kernelspec": {
      "name": "python3",
      "display_name": "Python 3"
    },
    "language_info": {
      "name": "python"
    }
  },
  "cells": [
    {
      "cell_type": "code",
      "execution_count": null,
      "metadata": {
        "id": "vbiewz2F30kJ"
      },
      "outputs": [],
      "source": [
        "import pandas as pd\n",
        "import numpy as np\n",
        "from osgeo import gdal\n",
        "import sys\n",
        "import os\n",
        "import datetime\n",
        "import matplotlib\n",
        "import matplotlib.pyplot as plt\n",
        "import matplotlib.pyplot as mplot"
      ]
    },
    {
      "cell_type": "code",
      "source": [
        "from google.colab import drive\n",
        "drive.mount('/content/drive')"
      ],
      "metadata": {
        "colab": {
          "base_uri": "https://localhost:8080/"
        },
        "id": "yt7d4oLL43Q3",
        "outputId": "25417f8c-38af-4adc-e206-13e555e4a87f"
      },
      "execution_count": null,
      "outputs": [
        {
          "output_type": "stream",
          "name": "stdout",
          "text": [
            "Mounted at /content/drive\n"
          ]
        }
      ]
    },
    {
      "cell_type": "code",
      "source": [
        "CDataDir = '/content/drive/MyDrive/Assignment/A3_Landslide_detection/Data/Clipped_images'\n",
        "FDataDir = '/content/drive/MyDrive/Assignment/A3_Landslide_detection/Data/Full_images'\n",
        "SaveOutput = '/content/drive/MyDrive/Assignment/OutPut'"
      ],
      "metadata": {
        "id": "6KIqDwwL72BT"
      },
      "execution_count": null,
      "outputs": []
    },
    {
      "cell_type": "code",
      "source": [
        "# folder path\n",
        "dir_path = CDataDir\n",
        "dir_pathF = FDataDir\n"
      ],
      "metadata": {
        "id": "nt5AwCCm8BTf"
      },
      "execution_count": null,
      "outputs": []
    },
    {
      "cell_type": "code",
      "source": [
        "# list to store files\n",
        "res = []\n",
        "resF = []"
      ],
      "metadata": {
        "id": "WLOKM4aZ8Ewm"
      },
      "execution_count": null,
      "outputs": []
    },
    {
      "cell_type": "code",
      "source": [
        "for path in os.listdir(dir_path):\n",
        "    # checking Tiff files\n",
        "    if str(path).split(\".\")[-1] == \"tif\" and os.path.isfile(os.path.join(dir_path, path)):\n",
        "        res.append(path)\n",
        "\n",
        "for path in os.listdir(dir_pathF):\n",
        "    # checking Tiff files\n",
        "    if str(path).split(\".\")[-1] == \"tif\" and os.path.isfile(os.path.join(dir_pathF, path)):\n",
        "        resF.append(path)"
      ],
      "metadata": {
        "id": "QgGnUqxY8Kj5"
      },
      "execution_count": null,
      "outputs": []
    },
    {
      "cell_type": "code",
      "source": [
        "def Index(filename, datatype):\n",
        "    if datatype == \"Clipped\":\n",
        "        index = filename.split(\"_\")[1]\n",
        "    elif datatype == \"Full\":\n",
        "        index_split = filename.split(\"_\")[3]\n",
        "        index = index_split.split(\".\")[0]\n",
        "    return index"
      ],
      "metadata": {
        "id": "33g4vXuy8MhT"
      },
      "execution_count": null,
      "outputs": []
    },
    {
      "cell_type": "markdown",
      "source": [
        "The function derives the index name out of the file name \n",
        "filename : str datarype: str Full or Clipped"
      ],
      "metadata": {
        "id": "YgOKYPuo8b0k"
      }
    },
    {
      "cell_type": "code",
      "source": [
        "def Date(filename, datatype):\n",
        "    if datatype == \"Clipped\":\n",
        "        Day = filename.split(\".\")[0][-2:]\n",
        "        Month = filename.split(\".\")[0][-4:-2]\n",
        "        Year = filename.split(\".\")[0][-8:-4]\n",
        "    else:\n",
        "        Day = filename.split(\"_\")[2][-2:]\n",
        "        Month = filename.split(\"_\")[2][-4:-2]\n",
        "        Year = filename.split(\"_\")[2][0:4]\n",
        "    date = str(datetime.date(int(Year), int(Month), int(Day)))\n",
        "    return date"
      ],
      "metadata": {
        "id": "Ik7XEayn8P3P"
      },
      "execution_count": null,
      "outputs": []
    },
    {
      "cell_type": "markdown",
      "source": [
        "The function derives the date out of the file name  filename : str datarype: str Full or Clipped"
      ],
      "metadata": {
        "id": "WD26W9OQ8phc"
      }
    },
    {
      "cell_type": "code",
      "source": [
        "def Average_Index_Value(filename, datatype):\n",
        "    if datatype == \"Clipped\":\n",
        "        ds = gdal.Open(CDataDir + '/' + filename)\n",
        "        band = ds.GetRasterBand(1)\n",
        "        no_data = band.GetNoDataValue()\n",
        "        array = band.ReadAsArray()\n",
        "        mean = np.mean(array[array > no_data])\n",
        "    else:\n",
        "        ds = gdal.Open(FDataDir + '/' + filename)\n",
        "        band = ds.GetRasterBand(1)\n",
        "        no_data = band.GetNoDataValue()\n",
        "        array = band.ReadAsArray()\n",
        "        mean = np.mean(array[array != no_data])\n",
        "    return mean"
      ],
      "metadata": {
        "id": "xMkSSDSh8iJR"
      },
      "execution_count": null,
      "outputs": []
    },
    {
      "cell_type": "markdown",
      "source": [
        "The function derives a single average value : float for a given raster file\n",
        "filename : str datarype: str Full or Clipped"
      ],
      "metadata": {
        "id": "zoWF9pox89Yp"
      }
    },
    {
      "cell_type": "code",
      "source": [
        "def No_Data_Value(filename, datatype):\n",
        "    if datatype == \"Clipped\":\n",
        "        ds = gdal.Open(CDataDir + '/' + filename)\n",
        "        band = ds.GetRasterBand(1)\n",
        "        no_data = band.GetNoDataValue()\n",
        "    else:\n",
        "        ds = gdal.Open(FDataDir + '/' + filename)\n",
        "        band = ds.GetRasterBand(1)\n",
        "        no_data = band.GetNoDataValue()\n",
        "    return no_data"
      ],
      "metadata": {
        "id": "vksNQCZ58uWB"
      },
      "execution_count": null,
      "outputs": []
    },
    {
      "cell_type": "markdown",
      "source": [
        "The function derives no data values for a given raster file filename : str datarype: str Full or Clipped"
      ],
      "metadata": {
        "id": "o-GtPeqC9Ujg"
      }
    },
    {
      "cell_type": "code",
      "source": [
        "def Event_pointer(my_list):\n",
        "    Derivative = list()  # We create here the list where all the derivatives will be stored\n",
        "    for i in range(0, (len(my_list) - 1)):\n",
        "        difference = abs(my_list[i + 1][1] - my_list[i][1])\n",
        "        Derivative.append(difference)\n",
        "    index_in_dict = max(Derivative)\n",
        "    Event = Derivative.index(index_in_dict) + 1\n",
        "    Event_Average = my_list[Event][0]\n",
        "    return Event_Average\n"
      ],
      "metadata": {
        "id": "mL7WP8Ke9QvL"
      },
      "execution_count": null,
      "outputs": []
    },
    {
      "cell_type": "markdown",
      "source": [
        "The function returns the average value of the event:landslide file for each given index list"
      ],
      "metadata": {
        "id": "h6ftKo_g9i0A"
      }
    },
    {
      "cell_type": "code",
      "source": [
        "\n",
        "def Avg_event_image(index, df):\n",
        "    # Two arrays with the same shape as our rasters for pre and post events\n",
        "    Sum_pre = np.zeros((210, 529))\n",
        "    Sum_post = np.zeros((210, 529))\n",
        "\n",
        "    j = 0\n",
        "    k = 0\n",
        "\n",
        "    for i in range(0, len(CSVF) - 2):\n",
        "      if df.Index[i] == index and df.Event[i] == \"Pre-Event\":\n",
        "            ds = gdal.Open(FDataDir + '/' + df.filename[i])\n",
        "            band = ds.GetRasterBand(1)\n",
        "            array = band.ReadAsArray()\n",
        "            No_nan_Val = np.nan_to_num(array, nan=0)\n",
        "            Sum_pre += No_nan_Val\n",
        "            j += 1\n",
        "      elif df.Index[i] == index:\n",
        "            ds = gdal.Open(FDataDir + '/' + df.filename[i])\n",
        "            band = ds.GetRasterBand(1)\n",
        "            array = band.ReadAsArray()\n",
        "            No_nan_Val = np.nan_to_num(array, nan=0)\n",
        "            k += 1\n",
        "            Sum_post += No_nan_Val\n",
        "    avg_pre = Sum_pre / (j)\n",
        "    avg_post = Sum_post / (k)\n",
        "    result = (avg_post - avg_pre)\n",
        "\n",
        "    return np.array(result)"
      ],
      "metadata": {
        "id": "_1a4o6ux-GMQ"
      },
      "execution_count": null,
      "outputs": []
    },
    {
      "cell_type": "code",
      "source": [
        "def Avg_post_image(index, df):\n",
        "    ## The function creates an average image of all the pre events for a given index\n",
        "    Sum_pre = np.zeros((210, 529))\n",
        "    Sum_post = np.zeros((210, 529))\n",
        "    # counter\n",
        "    j = 0\n",
        "    k=0\n",
        "    for i in range(0, len(CSVF) - 2):\n",
        "      if df.Index[i] == index and df.Event[i] == \"Pre-Event\":\n",
        "            ds = gdal.Open(FDataDir + '/' + df.filename[i])\n",
        "            band = ds.GetRasterBand(1)\n",
        "            array = band.ReadAsArray()\n",
        "            No_nan_Val = np.nan_to_num(array, nan=0)\n",
        "            Sum_pre += No_nan_Val\n",
        "            j += 1\n",
        "      elif df.Index[i] == index:\n",
        "            ds = gdal.Open(FDataDir + '/' + df.filename[i])\n",
        "            band = ds.GetRasterBand(1)\n",
        "            array = band.ReadAsArray()\n",
        "            No_nan_Val = np.nan_to_num(array, nan=0)\n",
        "            k += 1\n",
        "            Sum_post += No_nan_Val\n",
        "    avg_post = Sum_post / (k)\n",
        "    return np.array(avg_post)"
      ],
      "metadata": {
        "id": "yw6bwofL__-E"
      },
      "execution_count": null,
      "outputs": []
    },
    {
      "cell_type": "code",
      "source": [
        "def Avg_pre_image(index, df):\n",
        "    ## The function creates an average image of all the pre events for a given index\n",
        "    Sum_pre = np.zeros((210, 529))\n",
        "    Sum_post = np.zeros((210, 529))\n",
        "    # counter\n",
        "    j = 0\n",
        "    k=0\n",
        "    for i in range(0, len(CSVF) - 2):\n",
        "        if df.Index[i] == index and df.Event[i] == \"Pre-Event\":\n",
        "            ds = gdal.Open(FDataDir + '/' + df.filename[i])\n",
        "            band = ds.GetRasterBand(1)\n",
        "            array = band.ReadAsArray()\n",
        "            No_nan_Val = np.nan_to_num(array, nan=0)\n",
        "            Sum_pre += No_nan_Val\n",
        "            j += 1\n",
        "        elif df.Index[i] == index:\n",
        "            ds = gdal.Open(FDataDir + '/' + df.filename[i])\n",
        "            band = ds.GetRasterBand(1)\n",
        "            array = band.ReadAsArray()\n",
        "            No_nan_Val = np.nan_to_num(array, nan=0)\n",
        "            k += 1\n",
        "            Sum_post += No_nan_Val\n",
        "    avg_pre = Sum_pre / (j)\n",
        "    return np.array(avg_pre)"
      ],
      "metadata": {
        "id": "Zj0TzIhLAR4O"
      },
      "execution_count": null,
      "outputs": []
    },
    {
      "cell_type": "code",
      "source": [
        "def plotimg(var, xlable,barlabel,namesave ):\n",
        "    plt.figure(figsize=(16, 6), dpi=600)\n",
        "    plt.xlabel(xlable, fontsize=20)\n",
        "    im = plt.imshow(var, )\n",
        "    plt.colorbar(im, label = barlabel)\n",
        "    plt.savefig(SaveOutput + \"/\" + namesave + '.jpg',dpi=600)\n",
        "    return"
      ],
      "metadata": {
        "id": "9dIBxndtAaLH"
      },
      "execution_count": null,
      "outputs": []
    },
    {
      "cell_type": "code",
      "source": [
        "li2 = [i for i in range(len(res))]\n",
        "li3 = [i for i in range(len(resF))]"
      ],
      "metadata": {
        "id": "QVPU1m3iAq1g"
      },
      "execution_count": null,
      "outputs": []
    },
    {
      "cell_type": "code",
      "source": [
        "CSV = pd.DataFrame(index=li2,\n",
        "                   columns=[\"filename\", \"Index\", \"Date\", \"NoDataValue\", \"Average\", \"Event\"])\n",
        "for i in range(0, len(res)):\n",
        "    filename = res[i]\n",
        "    CSV.filename[i] = filename\n",
        "    CSV.Index[i] = Index(filename, \"Clipped\")\n",
        "    CSV.Date[i] = Date(filename, \"Clipped\")\n",
        "    CSV.NoDataValue[i] = No_Data_Value(filename, \"Clipped\")\n",
        "    CSV.Average[i] = Average_Index_Value(filename, \"Clipped\")"
      ],
      "metadata": {
        "id": "laeHDLMBAxNn"
      },
      "execution_count": null,
      "outputs": []
    },
    {
      "cell_type": "code",
      "source": [
        "bikeys = (CSV[CSV.Index == \"BI\"][\"Date\"])\n",
        "bivalues = CSV[CSV.Index == \"BI\"][\"Average\"]\n",
        "\n",
        "BI_Average = list(zip(bikeys, bivalues))\n",
        "BI_Average = list(sorted(BI_Average))\n",
        "BI_Average"
      ],
      "metadata": {
        "id": "fBVfXO3UAz4U"
      },
      "execution_count": null,
      "outputs": []
    },
    {
      "cell_type": "code",
      "source": [
        "ndmikeys = (CSV[CSV.Index == \"NDMI\"][\"Date\"])\n",
        "ndmivalues = CSV[CSV.Index == \"NDMI\"][\"Average\"]\n",
        "\n",
        "NDMI_Average = list(zip(ndmikeys, ndmivalues))\n",
        "NDMI_Average = list(sorted(NDMI_Average))\n",
        "NDMI_Average\n",
        "\n",
        "##Tuples for NDVI\n",
        "ndvikeys = (CSV[CSV.Index == \"NDVI\"][\"Date\"])\n",
        "ndvivalues = CSV[CSV.Index == \"NDVI\"][\"Average\"]\n",
        "\n",
        "NDVI_Average = list(zip(ndvikeys, ndvivalues))\n",
        "NDVI_Average = list(sorted(NDVI_Average))\n"
      ],
      "metadata": {
        "id": "ECPYwyVfA6CF"
      },
      "execution_count": null,
      "outputs": []
    },
    {
      "cell_type": "code",
      "source": [
        "LS_DateBI = Event_pointer(BI_Average)\n",
        "LS_DateNDVI = Event_pointer(NDVI_Average)\n",
        "LS_DateNDMI = Event_pointer(NDMI_Average)"
      ],
      "metadata": {
        "id": "WBqnI-I6A98J"
      },
      "execution_count": null,
      "outputs": []
    },
    {
      "cell_type": "code",
      "source": [
        "print(\"the date for significant change in the indexes for BI, NDVI, and NDMI are: \")\n",
        "print(\"BI\", LS_DateBI)\n",
        "print(\"NDVI\", LS_DateNDVI)\n",
        "print(\"NDMI\", LS_DateNDMI)"
      ],
      "metadata": {
        "colab": {
          "base_uri": "https://localhost:8080/"
        },
        "id": "ZPfqry3MBDWV",
        "outputId": "729f1457-8ee8-46ee-9053-b5a7b71eb62d"
      },
      "execution_count": null,
      "outputs": [
        {
          "output_type": "stream",
          "name": "stdout",
          "text": [
            "the date for significant change in the indexes for BI, NDVI, and NDMI are: \n",
            "BI 2020-05-29\n",
            "NDVI 2020-05-29\n",
            "NDMI 2020-05-29\n"
          ]
        }
      ]
    },
    {
      "cell_type": "code",
      "source": [
        "if LS_DateBI == LS_DateNDMI and LS_DateNDVI == LS_DateNDMI:\n",
        "    LS_Date = LS_DateNDMI\n",
        "    print(\"Similar dates were obtained by different indexes.\")\n",
        "else:\n",
        "    print(\"No Similar dates were obtained by different indexes.\")\n",
        "\n",
        "CSVF = pd.DataFrame(index=li3,\n",
        "                    columns=[\"filename\", \"Index\", \"Date\", \"NoDataValue\", \"Event\"])\n",
        "for i in range(0, len(resF) - 1):\n",
        "    filename = resF[i]\n",
        "    CSVF.filename[i] = filename\n",
        "    CSVF.Index[i] = Index(filename, \"Full\")\n",
        "    CSVF.Date[i] = Date(filename, \"Full\")\n",
        "    CSVF.NoDataValue[i] = No_Data_Value(filename, \"Full\")\n",
        "\n",
        "for i in range(0, len(li3) - 1):\n",
        "    Dateformat = (pd.to_datetime(CSVF.Date[i]))\n",
        "    if (Dateformat < pd.to_datetime(LS_Date)):\n",
        "        CSVF.Event[i] = \"Pre-Event\"\n",
        "    elif Dateformat == pd.to_datetime(LS_Date):\n",
        "        CSVF.Event[i] = \"Event period\"\n",
        "    else:\n",
        "        CSVF.Event[i] = \"Post-Event\"\n",
        "\n",
        "CSV.sort_values(\"Date\")\n",
        "CSV = CSV.reset_index()\n",
        "CSVF.sort_values(\"Date\")\n",
        "CSVF = CSVF.reset_index()\n",
        "\n",
        "CSV.to_csv( str(SaveOutput) + \"/\" + \"Clipped_data.csv\")\n",
        "CSVF.to_csv(SaveOutput + \"/\" + \"Full_data.csv\")\n",
        "print(\"The CSV files are available in your output folder\")\n"
      ],
      "metadata": {
        "colab": {
          "base_uri": "https://localhost:8080/"
        },
        "id": "pcJ8SYjvBNqH",
        "outputId": "b95ccd33-d2d8-4cce-9673-bc0406c18c89"
      },
      "execution_count": null,
      "outputs": [
        {
          "output_type": "stream",
          "name": "stdout",
          "text": [
            "Similar dates were obtained by different indexes.\n",
            "The CSV files are available in your output folder\n"
          ]
        }
      ]
    },
    {
      "cell_type": "code",
      "source": [
        "dBI = Avg_event_image(\"BI\", CSVF)\n",
        "dNDMI = Avg_event_image(\"NDMI\", CSVF)\n",
        "dNDVI = Avg_event_image(\"NDVI\", CSVF)"
      ],
      "metadata": {
        "id": "KUJyTjDRBUF4"
      },
      "execution_count": null,
      "outputs": []
    },
    {
      "cell_type": "code",
      "source": [
        "plt.figure(figsize=(16, 6), dpi=600)\n",
        "plt.xlabel(\"dNDVI\", fontsize=20)\n",
        "im = plt.imshow(dNDVI)\n",
        "plt.colorbar(im, label = \"dNDVI values\")\n",
        "plt.savefig(SaveOutput + \"/dNDVI\" + '.jpg', dpi=600)\n",
        "\n",
        "plt.figure(figsize=(16, 6), dpi=600)\n",
        "plt.xlabel(\"dNDMI\", fontsize=20)\n",
        "im = plt.imshow(dNDMI)\n",
        "plt.colorbar(im, label = \"dNDMI values\")\n",
        "plt.savefig(SaveOutput + \"/dNDMI\" + '.jpg', dpi=600)\n",
        "\n",
        "plt.figure(figsize=(16, 6), dpi=600)\n",
        "plt.xlabel(\"dBI\", fontsize=20)\n",
        "im = plt.imshow(dBI)\n",
        "plt.colorbar(im, label = \"dBI values\")\n",
        "plt.savefig(SaveOutput + \"/dBI\" + '.jpg', dpi=600)\n",
        "\n",
        "print(\"the dNDVI, dNDMI, and dBI images are stored in your output folder!\")"
      ],
      "metadata": {
        "id": "3yOXuiw7BXr0"
      },
      "execution_count": null,
      "outputs": []
    },
    {
      "cell_type": "code",
      "source": [
        "sorted = CSV.sort_values(\"Date\")\n",
        "plt.figure(figsize=(16, 6), dpi=600)\n",
        "plt.plot(sorted.Date[CSV.Index == \"BI\"], sorted.Average[CSV.Index == \"BI\"], label=\"BI\", color='black')\n",
        "plt.axvline(x=LS_Date, color='r', label='LS event')\n",
        "plt.legend(prop={'size': 20})\n",
        "plt.xlabel(\"Dates\", fontsize=20)\n",
        "plt.ylabel(\"Index Value\", fontsize=20)\n",
        "plt.savefig(SaveOutput + \"/BI\" + '_timeseries.jpg', dpi=600)"
      ],
      "metadata": {
        "id": "owAv6x53CNWd"
      },
      "execution_count": null,
      "outputs": []
    },
    {
      "cell_type": "code",
      "source": [
        "plt.figure(figsize=(16, 6), dpi=600)\n",
        "plt.plot(sorted.Date[CSV.Index == \"NDMI\"], sorted.Average[CSV.Index == \"NDMI\"], label=\"NDMI\", color='black')\n",
        "plt.axvline(x=LS_Date, color='r', label='LS event')\n",
        "plt.legend(prop={'size': 20})\n",
        "plt.xlabel(\"Dates\", fontsize=20)\n",
        "plt.ylabel(\"Index Value\", fontsize=20)\n",
        "plt.savefig(SaveOutput + \"/NDMI\" + '_timeseries.jpg', dpi=600)"
      ],
      "metadata": {
        "id": "11tgmDmTC3Dq"
      },
      "execution_count": null,
      "outputs": []
    },
    {
      "cell_type": "code",
      "source": [
        "plt.figure(figsize=(16, 6), dpi=600)\n",
        "plt.plot(sorted.Date[CSV.Index == \"NDVI\"], sorted.Average[CSV.Index == \"BI\"], label=\"NDVI\", color='black')\n",
        "plt.axvline(x=LS_Date, color='r', label='LS event')\n",
        "plt.legend(prop={'size': 20})\n",
        "plt.xlabel(\"Dates\", fontsize=20)\n",
        "plt.ylabel(\"Index Value\", fontsize=20)\n",
        "plt.savefig(SaveOutput + \"/NDVI\" + '_timeseries.jpg', dpi=600)\n",
        "\n",
        "print(\"the NDVI, NDMI, and BI timeseries images are stored in your output folder!\")"
      ],
      "metadata": {
        "id": "NmjOu2A8DGUw"
      },
      "execution_count": null,
      "outputs": []
    },
    {
      "cell_type": "code",
      "source": [
        "dataset = gdal.Open(FDataDir + \"/\" + resF[2])\n",
        "wkt = dataset.GetProjection()\n",
        "gt = dataset.GetGeoTransform()\n",
        "def to_tiff(index_array,index_type):\n",
        "    # Get the TIFF driver\n",
        "    driver = gdal.GetDriverByName(\"GTiff\")\n",
        "    # Create a new TIFF file\n",
        "    file_name = SaveOutput + '/' + index_type + '.tif'\n",
        "    width, height = index_array.shape[1], index_array.shape[0]\n",
        "    dataset = driver.Create(file_name, width, height, 1, gdal.GDT_Float32)\n",
        "    # Write the data array to the TIFF file\n",
        "    dataset.SetGeoTransform(gt)\n",
        "    dataset.SetProjection(wkt)\n",
        "    dataset.GetRasterBand(1).WriteArray(index_array)\n",
        "    # Close the dataset\n",
        "    dataset = None\n",
        "\n",
        "to_tiff(dBI,'BI')\n",
        "to_tiff(dNDMI, 'NDMI')\n",
        "to_tiff(dNDVI, 'NDVI')\n",
        "\n",
        "print(\"the tif files are stored in your output path\")"
      ],
      "metadata": {
        "colab": {
          "base_uri": "https://localhost:8080/"
        },
        "id": "ismzY5W3DW3G",
        "outputId": "381465da-e00c-43ed-adbb-b6396c78f82d"
      },
      "execution_count": null,
      "outputs": [
        {
          "output_type": "stream",
          "name": "stdout",
          "text": [
            "the tif files are stored in your output path\n"
          ]
        }
      ]
    },
    {
      "cell_type": "code",
      "source": [
        "def dindex_clipped(index):\n",
        "    temp_dataframe = CSV[CSV.Index == index]\n",
        "    pre_event_avg = (temp_dataframe.Average[temp_dataframe.Date < LS_Date]).tolist()\n",
        "    x = (sum(pre_event_avg))/len(pre_event_avg)\n",
        "    temp_dataframe = CSV[CSV.Index == index]\n",
        "    post_event_avg = (temp_dataframe.Average[temp_dataframe.Date > LS_Date]).tolist()\n",
        "    y  = (sum(post_event_avg))/len(post_event_avg)\n",
        "    dindex = y - x\n",
        "    return dindex"
      ],
      "metadata": {
        "id": "iOBZYhjvDjLn"
      },
      "execution_count": null,
      "outputs": []
    },
    {
      "cell_type": "code",
      "source": [
        "thresholdbi = dindex_clipped(\"BI\") #above this is landslide\n",
        "thresholdndmi = dindex_clipped(\"NDMI\") #below this is landslide\n",
        "thresholdndvi = dindex_clipped(\"NDVI\") #below this is landslidd\n",
        "\n",
        "print(\"to asess the values of dNDMI and dNDVI, we used the average post-pre values of the CLipped data at landslide loca\"\n",
        "      \"tion. The values for NDVI, BI, and NDMI are:\")\n",
        "\n",
        "print(thresholdndvi)\n",
        "print(thresholdbi)\n",
        "print(thresholdndmi)"
      ],
      "metadata": {
        "colab": {
          "base_uri": "https://localhost:8080/"
        },
        "id": "mW86L1nIDp4E",
        "outputId": "fab26f83-afae-4e8f-e291-2c21dce939fe"
      },
      "execution_count": null,
      "outputs": [
        {
          "output_type": "stream",
          "name": "stdout",
          "text": [
            "to asess the values of dNDMI and dNDVI, we used the average post-pre values of the CLipped data at landslide location. The values for NDVI, BI, and NDMI are:\n",
            "-0.10585973557864897\n",
            "628.887223705673\n",
            "-0.08838273649104259\n"
          ]
        }
      ]
    },
    {
      "cell_type": "code",
      "source": [
        "NDVI_class = np.where(dNDVI <= thresholdndvi,1, dNDVI)\n",
        "NDMI_class = np.where(dNDMI <= thresholdndmi,1, dNDMI)\n",
        "\n",
        "plt.figure(figsize=(16, 6), dpi=600)\n",
        "plt.xlabel(\"possible locations of LS according to NDMI average post-pre event \", fontsize=20)\n",
        "im = plt.imshow(NDMI_class)\n",
        "plt.savefig(SaveOutput + \"/classNDMI\" + '.jpg', dpi=600)\n",
        "\n",
        "plt.figure(figsize=(16, 6), dpi=600)\n",
        "plt.xlabel(\"possible locations of LS according to NDVI average post-pre event \", fontsize=20)\n",
        "im = plt.imshow(NDVI_class)\n",
        "plt.savefig(SaveOutput + \"/classNDVI\" + '.jpg', dpi=600)"
      ],
      "metadata": {
        "id": "mVEyhoC0DunC"
      },
      "execution_count": null,
      "outputs": []
    },
    {
      "cell_type": "code",
      "source": [
        "pre_BI=Avg_pre_image(\"BI\", CSVF)\n",
        "pre_NDMI=Avg_pre_image(\"NDMI\", CSVF)\n",
        "pre_NDVI=Avg_pre_image(\"NDVI\", CSVF)\n",
        "\n",
        "\n",
        "\n",
        "plotimg(pre_BI,\"pre_BI Average\",\"pre_BI avg values\",\"pre_BI\")\n",
        "plotimg(pre_NDMI,\"pre_NDMI Average\",\"pre_NDMI avg values\",\"pre_NDMI\")\n",
        "plotimg(pre_NDVI,\"pre_NDVI Average\",\"pre_NDVI avg values\",\"pre_NDVI\")\n",
        "\n",
        "\n",
        "post_BI=Avg_post_image(\"BI\", CSVF)\n",
        "post_NDMI=Avg_post_image(\"NDMI\", CSVF)\n",
        "post_NDVI=Avg_post_image(\"NDVI\", CSVF)\n",
        "\n",
        "plotimg(post_BI,\"post_BI Average\",\"post_BI avg values\",\"post_BI\")\n",
        "plotimg(pre_NDMI,\"post_NDMI Average\",\"post_NDMI avg values\",\"post_NDMI\")\n",
        "plotimg(post_NDVI,\"post_NDVI Average\",\"post_NDVI avg values\",\"post_NDVI\")\n",
        "\n",
        "print(\"All output files are available in the output folder!\")"
      ],
      "metadata": {
        "id": "HY6sicrfEA0k"
      },
      "execution_count": null,
      "outputs": []
    }
  ]
}
